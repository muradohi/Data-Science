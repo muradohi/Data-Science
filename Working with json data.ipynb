{
 "cells": [
  {
   "cell_type": "code",
   "execution_count": 1,
   "id": "fe015041",
   "metadata": {},
   "outputs": [],
   "source": [
    "import numpy as np\n",
    "import pandas as pd\n",
    "import requests\n"
   ]
  },
  {
   "cell_type": "code",
   "execution_count": 91,
   "id": "1f94a4d2",
   "metadata": {},
   "outputs": [
    {
     "name": "stdout",
     "output_type": "stream",
     "text": [
      "{'adult': False, 'backdrop_path': '/1Rr5SrvHxMXHu5RjKpaMba8VTzi.jpg', 'genre_ids': [28, 12, 878], 'id': 634649, 'original_language': 'en', 'original_title': 'Spider-Man: No Way Home', 'overview': 'Peter Parker is unmasked and no longer able to separate his normal life from the high-stakes of being a super-hero. When he asks for help from Doctor Strange the stakes become even more dangerous, forcing him to discover what it truly means to be Spider-Man.', 'popularity': 20686.826, 'poster_path': '/1g0dhYtq4irTY1GPXvft6k4YLjm.jpg', 'release_date': '2021-12-15', 'title': 'Spider-Man: No Way Home', 'video': False, 'vote_average': 8.6, 'vote_count': 1839}\n",
      "{'adult': False, 'backdrop_path': '/upOi9aVqPPky7Ba4GsiyFdjc82I.jpg', 'genre_ids': [37, 28, 53], 'id': 887767, 'original_language': 'en', 'original_title': 'Last Shoot Out', 'overview': \"Soon after a newlywed learns that her husband had her father shot down, she flees from the Callahan ranch in fear. She's rescued by a gunman who safeguards her at a remote outpost as he staves off her husband's attempts to reclaim his bride.\", 'popularity': 1140.717, 'poster_path': '/pvEtPxotI3POlVPvNxgrHJuDXfe.jpg', 'release_date': '2021-12-03', 'title': 'Last Shoot Out', 'video': False, 'vote_average': 6.6, 'vote_count': 43}\n"
     ]
    }
   ],
   "source": [
    "for num in range(1,3):\n",
    "    pages = requests.get('https://api.themoviedb.org/3/movie/popular?api_key=71a383691862790e040164ad8bbf99a2&language=en-US&page={}'.format(num)).json()\n",
    "    \n",
    "    print(pages['results'][0])    "
   ]
  },
  {
   "cell_type": "code",
   "execution_count": 3,
   "id": "38dabcd1",
   "metadata": {
    "scrolled": true
   },
   "outputs": [
    {
     "name": "stdout",
     "output_type": "stream",
     "text": [
      "Spider-Man: No Way Home\n",
      "Venom: Let There Be Carnage\n",
      "Red Notice\n",
      "Shang-Chi and the Legend of the Ten Rings\n",
      "Spider-Man: Homecoming\n",
      "The Amazing Spider-Man\n",
      "Spider-Man\n",
      "Spider-Man: Far From Home\n",
      "Clifford the Big Red Dog\n",
      "Encanto\n",
      "The Amazing Spider-Man 2\n",
      "The Last Duel\n",
      "Spider-Man 3\n",
      "Чернобыль\n",
      "Sooryavanshi\n",
      "Eternals\n",
      "Diary of a Wimpy Kid\n",
      "Ron's Gone Wrong\n",
      "Gone Mom: The Disappearance of Jennifer Dulos\n",
      "No Time to Die\n",
      "Last Shoot Out\n",
      "劇場版 七つの大罪 光に呪われし者たち\n",
      "Free Guy\n",
      "Garota da Moto\n",
      "劇場版「鬼滅の刃」無限列車編\n",
      "Finch\n",
      "Dune\n",
      "Zeros and Ones\n",
      "The Simpsons in Plusaversary\n",
      "Sorjonen: Muraalimurhat\n",
      "Spider-Man: Into the Spider-Verse\n",
      "Italian Spiderman\n",
      "The Matrix Resurrections\n",
      "Sing 2\n",
      "Jack Black: Spider-Man\n",
      "Amina\n",
      "Christmas ...Again?!\n",
      "The Unforgivable\n",
      "धमाका\n",
      "Mickey and Minnie Wish Upon a Christmas\n",
      "Apex\n",
      "The Boss Baby: Family Business\n",
      "Méandre\n",
      "Dawid i Elfy\n",
      "Avengers: Infinity War\n",
      "Shaun the Sheep: The Flight Before Christmas\n",
      "The Suicide Squad\n",
      "F9\n",
      "Trolls Holiday in Harmony\n",
      "Las leyes de la frontera\n",
      "Paranormal Activity: Next of Kin\n",
      "Black Widow\n",
      "Encounter\n",
      "7 Prisioneiros\n",
      "Snoopy Presents: For Auld Lang Syne\n",
      "Antlers\n",
      "Deathstroke: Knights & Dragons - The Movie\n",
      "Resident Evil: Welcome to Raccoon City\n",
      "Home Sweet Home Alone\n",
      "Ciao Alberto\n",
      "After We Fell\n",
      "Never Back Down: Revolt\n",
      "Back to the Outback\n",
      "Snake Eyes: G.I. Joe Origins\n",
      "Spider-Man 2\n",
      "Luca\n",
      "Последний богатырь: Корень зла\n",
      "Mortal Kombat\n",
      "Jungle Cruise\n",
      "ปริศนารูหลอน\n",
      "PAW Patrol: The Movie\n",
      "A Boy Called Christmas\n",
      "Avengers: Endgame\n",
      "Donde caben dos\n",
      "The Addams Family 2\n",
      "Godzilla vs. Kong\n",
      "Cruella\n",
      "Space Jam: A New Legacy\n",
      "The Vault\n",
      "Zack Snyder's Justice League\n"
     ]
    }
   ],
   "source": [
    "for num in range(1,5):\n",
    "    pages = requests.get('https://api.themoviedb.org/3/movie/popular?api_key=71a383691862790e040164ad8bbf99a2&language=en-US&page={}'.format(num)).json()\n",
    "    \n",
    "    for title in  pages['results']:\n",
    "        print(title['original_title'])"
   ]
  },
  {
   "cell_type": "code",
   "execution_count": 21,
   "id": "987a7d62",
   "metadata": {
    "scrolled": true
   },
   "outputs": [],
   "source": [
    "\n",
    "\n",
    "final_df = pd.DataFrame()\n",
    "\n",
    "for num in range(1,3):\n",
    "    \n",
    "    pages = requests.get('https://api.themoviedb.org/3/movie/popular?api_key=71a383691862790e040164ad8bbf99a2&language=en-US&page={}'.format(num)).json()\n",
    "    original_title = []\n",
    "    genres = []\n",
    "    movie_id = []\n",
    "    popularity = []\n",
    "    release_date= []\n",
    "    \n",
    "    try:\n",
    "        for title in  pages['results']:\n",
    "            original_title.append(title['original_title'])\n",
    "            genres.append(title['genre_ids'])\n",
    "            movie_id.append(title['id'])\n",
    "            popularity.append(title['popularity'])\n",
    "            release_date.append(title['release_date'])\n",
    "    \n",
    "    except:\n",
    "        original_title.append(np.NaN)\n",
    "        genres.append(np.NaN)\n",
    "        movie_id.append(np.NaN)\n",
    "        popularity.append(np.NaN)\n",
    "        release_date.append(np.NaN)\n",
    "        \n",
    "        \n",
    "    cols = {'title':original_title,'genres':genres,'id':movie_id,'release_date':release_date,'popularity':popularity}    \n",
    "    df = pd.DataFrame.from_dict(cols,orient='index')\n",
    "    df = df.transpose()\n",
    "    final_df = final_df.append(df,ignore_index=True)\n",
    "        \n",
    "        "
   ]
  },
  {
   "cell_type": "code",
   "execution_count": 22,
   "id": "7896c244",
   "metadata": {},
   "outputs": [
    {
     "data": {
      "text/plain": [
       "title           object\n",
       "genres          object\n",
       "id              object\n",
       "release_date    object\n",
       "popularity      object\n",
       "dtype: object"
      ]
     },
     "execution_count": 22,
     "metadata": {},
     "output_type": "execute_result"
    }
   ],
   "source": [
    "final_df.dtypes"
   ]
  },
  {
   "cell_type": "code",
   "execution_count": 23,
   "id": "256f7236",
   "metadata": {},
   "outputs": [
    {
     "data": {
      "text/plain": [
       "40"
      ]
     },
     "execution_count": 23,
     "metadata": {},
     "output_type": "execute_result"
    }
   ],
   "source": [
    "len(final_df['title'])"
   ]
  },
  {
   "cell_type": "code",
   "execution_count": 24,
   "id": "06580aea",
   "metadata": {},
   "outputs": [
    {
     "data": {
      "text/plain": [
       "title           0\n",
       "genres          0\n",
       "id              0\n",
       "release_date    0\n",
       "popularity      0\n",
       "dtype: int64"
      ]
     },
     "execution_count": 24,
     "metadata": {},
     "output_type": "execute_result"
    }
   ],
   "source": [
    "final_df.isnull().sum()"
   ]
  },
  {
   "cell_type": "code",
   "execution_count": 25,
   "id": "14483e3f",
   "metadata": {},
   "outputs": [],
   "source": [
    "#GET GENRES NAME\n",
    "\n",
    "#pip install tmdbv3api"
   ]
  },
  {
   "cell_type": "code",
   "execution_count": 65,
   "id": "dbf394e7",
   "metadata": {},
   "outputs": [
    {
     "data": {
      "text/html": [
       "<div>\n",
       "<style scoped>\n",
       "    .dataframe tbody tr th:only-of-type {\n",
       "        vertical-align: middle;\n",
       "    }\n",
       "\n",
       "    .dataframe tbody tr th {\n",
       "        vertical-align: top;\n",
       "    }\n",
       "\n",
       "    .dataframe thead th {\n",
       "        text-align: right;\n",
       "    }\n",
       "</style>\n",
       "<table border=\"1\" class=\"dataframe\">\n",
       "  <thead>\n",
       "    <tr style=\"text-align: right;\">\n",
       "      <th></th>\n",
       "      <th>title</th>\n",
       "      <th>genres</th>\n",
       "      <th>id</th>\n",
       "      <th>release_date</th>\n",
       "      <th>popularity</th>\n",
       "      <th>genres_name</th>\n",
       "    </tr>\n",
       "  </thead>\n",
       "  <tbody>\n",
       "    <tr>\n",
       "      <th>0</th>\n",
       "      <td>Spider-Man: No Way Home</td>\n",
       "      <td>[28, 12, 878]</td>\n",
       "      <td>634649</td>\n",
       "      <td>2021-12-15</td>\n",
       "      <td>20686.826</td>\n",
       "      <td>Action Adventure Science Fiction</td>\n",
       "    </tr>\n",
       "    <tr>\n",
       "      <th>1</th>\n",
       "      <td>Venom: Let There Be Carnage</td>\n",
       "      <td>[878, 28, 12]</td>\n",
       "      <td>580489</td>\n",
       "      <td>2021-09-30</td>\n",
       "      <td>7992.617</td>\n",
       "      <td>Science Fiction Action Adventure</td>\n",
       "    </tr>\n",
       "    <tr>\n",
       "      <th>2</th>\n",
       "      <td>Red Notice</td>\n",
       "      <td>[28, 35, 80, 53]</td>\n",
       "      <td>512195</td>\n",
       "      <td>2021-11-04</td>\n",
       "      <td>3496.837</td>\n",
       "      <td>Action Comedy Crime Thriller</td>\n",
       "    </tr>\n",
       "    <tr>\n",
       "      <th>3</th>\n",
       "      <td>Shang-Chi and the Legend of the Ten Rings</td>\n",
       "      <td>[28, 12, 14]</td>\n",
       "      <td>566525</td>\n",
       "      <td>2021-09-01</td>\n",
       "      <td>3100.52</td>\n",
       "      <td>Action Adventure Fantasy</td>\n",
       "    </tr>\n",
       "    <tr>\n",
       "      <th>4</th>\n",
       "      <td>Spider-Man: Homecoming</td>\n",
       "      <td>[28, 12, 878, 18]</td>\n",
       "      <td>315635</td>\n",
       "      <td>2017-07-05</td>\n",
       "      <td>2968.44</td>\n",
       "      <td>Action Adventure Science Fiction Drama</td>\n",
       "    </tr>\n",
       "  </tbody>\n",
       "</table>\n",
       "</div>"
      ],
      "text/plain": [
       "                                       title             genres      id  \\\n",
       "0                    Spider-Man: No Way Home      [28, 12, 878]  634649   \n",
       "1                Venom: Let There Be Carnage      [878, 28, 12]  580489   \n",
       "2                                 Red Notice   [28, 35, 80, 53]  512195   \n",
       "3  Shang-Chi and the Legend of the Ten Rings       [28, 12, 14]  566525   \n",
       "4                     Spider-Man: Homecoming  [28, 12, 878, 18]  315635   \n",
       "\n",
       "  release_date popularity                             genres_name  \n",
       "0   2021-12-15  20686.826        Action Adventure Science Fiction  \n",
       "1   2021-09-30   7992.617        Science Fiction Action Adventure  \n",
       "2   2021-11-04   3496.837            Action Comedy Crime Thriller  \n",
       "3   2021-09-01    3100.52                Action Adventure Fantasy  \n",
       "4   2017-07-05    2968.44  Action Adventure Science Fiction Drama  "
      ]
     },
     "execution_count": 65,
     "metadata": {},
     "output_type": "execute_result"
    }
   ],
   "source": [
    "final_df.head()"
   ]
  },
  {
   "cell_type": "code",
   "execution_count": 27,
   "id": "973ac8ad",
   "metadata": {},
   "outputs": [],
   "source": [
    "from tmdbv3api import TMDb"
   ]
  },
  {
   "cell_type": "code",
   "execution_count": 28,
   "id": "a3403cc6",
   "metadata": {},
   "outputs": [],
   "source": [
    "tmdb = TMDb()\n",
    "tmdb_api = '71a383691862790e040164ad8bbf99a2'"
   ]
  },
  {
   "cell_type": "code",
   "execution_count": 29,
   "id": "c65216c1",
   "metadata": {},
   "outputs": [],
   "source": [
    "movie = requests.get('https://api.themoviedb.org/3/movie/{}?api_key=71a383691862790e040164ad8bbf99a2'.format(512195)).json()"
   ]
  },
  {
   "cell_type": "code",
   "execution_count": 30,
   "id": "d5e7559d",
   "metadata": {
    "scrolled": true
   },
   "outputs": [
    {
     "data": {
      "text/plain": [
       "{'adult': False,\n",
       " 'backdrop_path': '/7ajHGIAYNMiIzejy1LJWdPrcAx8.jpg',\n",
       " 'belongs_to_collection': None,\n",
       " 'budget': 1,\n",
       " 'genres': [{'id': 28, 'name': 'Action'},\n",
       "  {'id': 35, 'name': 'Comedy'},\n",
       "  {'id': 80, 'name': 'Crime'},\n",
       "  {'id': 53, 'name': 'Thriller'}],\n",
       " 'homepage': 'https://www.netflix.com/us/title/81161626',\n",
       " 'id': 512195,\n",
       " 'imdb_id': 'tt7991608',\n",
       " 'original_language': 'en',\n",
       " 'original_title': 'Red Notice',\n",
       " 'overview': \"An Interpol-issued Red Notice is a global alert to hunt and capture the world's most wanted. But when a daring heist brings together the FBI's top profiler and two rival criminals, there's no telling what will happen.\",\n",
       " 'popularity': 3496.837,\n",
       " 'poster_path': '/wdE6ewaKZHr62bLqCn7A2DiGShm.jpg',\n",
       " 'production_companies': [{'id': 34081,\n",
       "   'logo_path': None,\n",
       "   'name': 'Flynn Picture Company',\n",
       "   'origin_country': 'US'},\n",
       "  {'id': 73669,\n",
       "   'logo_path': '/7tmSGstK3KwgcDIuBYLTAayjit9.png',\n",
       "   'name': 'Seven Bucks Productions',\n",
       "   'origin_country': 'US'},\n",
       "  {'id': 923,\n",
       "   'logo_path': '/5UQsZrfbfG2dYJbx8DxfoTr2Bvu.png',\n",
       "   'name': 'Legendary Pictures',\n",
       "   'origin_country': 'US'},\n",
       "  {'id': 102182,\n",
       "   'logo_path': None,\n",
       "   'name': 'Bad Version, Inc.',\n",
       "   'origin_country': ''}],\n",
       " 'production_countries': [{'iso_3166_1': 'US',\n",
       "   'name': 'United States of America'}],\n",
       " 'release_date': '2021-11-04',\n",
       " 'revenue': 0,\n",
       " 'runtime': 117,\n",
       " 'spoken_languages': [{'english_name': 'English',\n",
       "   'iso_639_1': 'en',\n",
       "   'name': 'English'},\n",
       "  {'english_name': 'Italian', 'iso_639_1': 'it', 'name': 'Italiano'},\n",
       "  {'english_name': 'Russian', 'iso_639_1': 'ru', 'name': 'Pусский'}],\n",
       " 'status': 'Released',\n",
       " 'tagline': 'Pro and cons.',\n",
       " 'title': 'Red Notice',\n",
       " 'video': False,\n",
       " 'vote_average': 6.8,\n",
       " 'vote_count': 2156}"
      ]
     },
     "execution_count": 30,
     "metadata": {},
     "output_type": "execute_result"
    }
   ],
   "source": [
    "movie"
   ]
  },
  {
   "cell_type": "code",
   "execution_count": 31,
   "id": "614e6f44",
   "metadata": {},
   "outputs": [
    {
     "data": {
      "text/plain": [
       "[{'id': 28, 'name': 'Action'},\n",
       " {'id': 35, 'name': 'Comedy'},\n",
       " {'id': 80, 'name': 'Crime'},\n",
       " {'id': 53, 'name': 'Thriller'}]"
      ]
     },
     "execution_count": 31,
     "metadata": {},
     "output_type": "execute_result"
    }
   ],
   "source": [
    "movie['genres']"
   ]
  },
  {
   "cell_type": "code",
   "execution_count": 32,
   "id": "064e6ee8",
   "metadata": {},
   "outputs": [
    {
     "data": {
      "text/plain": [
       "{'id': 28, 'name': 'Action'}"
      ]
     },
     "execution_count": 32,
     "metadata": {},
     "output_type": "execute_result"
    }
   ],
   "source": [
    "movie['genres'][0]"
   ]
  },
  {
   "cell_type": "code",
   "execution_count": 33,
   "id": "346d3262",
   "metadata": {},
   "outputs": [
    {
     "data": {
      "text/plain": [
       "'Action'"
      ]
     },
     "execution_count": 33,
     "metadata": {},
     "output_type": "execute_result"
    }
   ],
   "source": [
    "movie['genres'][0]['name']"
   ]
  },
  {
   "cell_type": "code",
   "execution_count": 34,
   "id": "09adccac",
   "metadata": {},
   "outputs": [
    {
     "name": "stdout",
     "output_type": "stream",
     "text": [
      "Action Comedy Crime Thriller\n"
     ]
    }
   ],
   "source": [
    "gen=[]\n",
    "for i in movie['genres']:\n",
    "    gen.append(i['name'])\n",
    "print(\" \".join(gen))"
   ]
  },
  {
   "cell_type": "code",
   "execution_count": 36,
   "id": "41d94568",
   "metadata": {},
   "outputs": [],
   "source": [
    "data = final_df.copy()"
   ]
  },
  {
   "cell_type": "code",
   "execution_count": null,
   "id": "21052939",
   "metadata": {},
   "outputs": [],
   "source": []
  },
  {
   "cell_type": "code",
   "execution_count": 60,
   "id": "3198c3a9",
   "metadata": {},
   "outputs": [],
   "source": [
    "def get_genres_name(ids):\n",
    "    gen = []\n",
    "    movie = requests.get('https://api.themoviedb.org/3/movie/{}?api_key=71a383691862790e040164ad8bbf99a2'.format(ids)).json()\n",
    "    if movie['genres']:\n",
    "\n",
    "        for title in movie['genres']:\n",
    "            gen.append(title['name'])\n",
    "\n",
    "        return \" \".join(gen)\n",
    "    \n",
    "    else:\n",
    "        return np.NaN"
   ]
  },
  {
   "cell_type": "code",
   "execution_count": 61,
   "id": "00cccff4",
   "metadata": {},
   "outputs": [
    {
     "name": "stdout",
     "output_type": "stream",
     "text": [
      "Action Adventure Science Fiction\n"
     ]
    }
   ],
   "source": [
    "print(get_genres_name(634649))"
   ]
  },
  {
   "cell_type": "code",
   "execution_count": null,
   "id": "71d0cd7c",
   "metadata": {},
   "outputs": [],
   "source": [
    "final_df['id'].map(lambda x: get_genres_name(x))"
   ]
  },
  {
   "cell_type": "code",
   "execution_count": 63,
   "id": "c57b9aaa",
   "metadata": {},
   "outputs": [],
   "source": [
    "final_df['genres_name'] = final_df['id'].map(lambda x: get_genres_name(x))"
   ]
  },
  {
   "cell_type": "code",
   "execution_count": 66,
   "id": "88881bd0",
   "metadata": {},
   "outputs": [
    {
     "data": {
      "text/html": [
       "<div>\n",
       "<style scoped>\n",
       "    .dataframe tbody tr th:only-of-type {\n",
       "        vertical-align: middle;\n",
       "    }\n",
       "\n",
       "    .dataframe tbody tr th {\n",
       "        vertical-align: top;\n",
       "    }\n",
       "\n",
       "    .dataframe thead th {\n",
       "        text-align: right;\n",
       "    }\n",
       "</style>\n",
       "<table border=\"1\" class=\"dataframe\">\n",
       "  <thead>\n",
       "    <tr style=\"text-align: right;\">\n",
       "      <th></th>\n",
       "      <th>title</th>\n",
       "      <th>genres</th>\n",
       "      <th>id</th>\n",
       "      <th>release_date</th>\n",
       "      <th>popularity</th>\n",
       "      <th>genres_name</th>\n",
       "    </tr>\n",
       "  </thead>\n",
       "  <tbody>\n",
       "    <tr>\n",
       "      <th>0</th>\n",
       "      <td>Spider-Man: No Way Home</td>\n",
       "      <td>[28, 12, 878]</td>\n",
       "      <td>634649</td>\n",
       "      <td>2021-12-15</td>\n",
       "      <td>20686.826</td>\n",
       "      <td>Action Adventure Science Fiction</td>\n",
       "    </tr>\n",
       "    <tr>\n",
       "      <th>1</th>\n",
       "      <td>Venom: Let There Be Carnage</td>\n",
       "      <td>[878, 28, 12]</td>\n",
       "      <td>580489</td>\n",
       "      <td>2021-09-30</td>\n",
       "      <td>7992.617</td>\n",
       "      <td>Science Fiction Action Adventure</td>\n",
       "    </tr>\n",
       "    <tr>\n",
       "      <th>2</th>\n",
       "      <td>Red Notice</td>\n",
       "      <td>[28, 35, 80, 53]</td>\n",
       "      <td>512195</td>\n",
       "      <td>2021-11-04</td>\n",
       "      <td>3496.837</td>\n",
       "      <td>Action Comedy Crime Thriller</td>\n",
       "    </tr>\n",
       "    <tr>\n",
       "      <th>3</th>\n",
       "      <td>Shang-Chi and the Legend of the Ten Rings</td>\n",
       "      <td>[28, 12, 14]</td>\n",
       "      <td>566525</td>\n",
       "      <td>2021-09-01</td>\n",
       "      <td>3100.52</td>\n",
       "      <td>Action Adventure Fantasy</td>\n",
       "    </tr>\n",
       "    <tr>\n",
       "      <th>4</th>\n",
       "      <td>Spider-Man: Homecoming</td>\n",
       "      <td>[28, 12, 878, 18]</td>\n",
       "      <td>315635</td>\n",
       "      <td>2017-07-05</td>\n",
       "      <td>2968.44</td>\n",
       "      <td>Action Adventure Science Fiction Drama</td>\n",
       "    </tr>\n",
       "  </tbody>\n",
       "</table>\n",
       "</div>"
      ],
      "text/plain": [
       "                                       title             genres      id  \\\n",
       "0                    Spider-Man: No Way Home      [28, 12, 878]  634649   \n",
       "1                Venom: Let There Be Carnage      [878, 28, 12]  580489   \n",
       "2                                 Red Notice   [28, 35, 80, 53]  512195   \n",
       "3  Shang-Chi and the Legend of the Ten Rings       [28, 12, 14]  566525   \n",
       "4                     Spider-Man: Homecoming  [28, 12, 878, 18]  315635   \n",
       "\n",
       "  release_date popularity                             genres_name  \n",
       "0   2021-12-15  20686.826        Action Adventure Science Fiction  \n",
       "1   2021-09-30   7992.617        Science Fiction Action Adventure  \n",
       "2   2021-11-04   3496.837            Action Comedy Crime Thriller  \n",
       "3   2021-09-01    3100.52                Action Adventure Fantasy  \n",
       "4   2017-07-05    2968.44  Action Adventure Science Fiction Drama  "
      ]
     },
     "execution_count": 66,
     "metadata": {},
     "output_type": "execute_result"
    }
   ],
   "source": [
    "final_df.head()"
   ]
  },
  {
   "cell_type": "code",
   "execution_count": null,
   "id": "325fdd59",
   "metadata": {},
   "outputs": [],
   "source": []
  },
  {
   "cell_type": "code",
   "execution_count": 92,
   "id": "96d0756c",
   "metadata": {},
   "outputs": [],
   "source": [
    "#get Genres Names "
   ]
  },
  {
   "cell_type": "code",
   "execution_count": 70,
   "id": "76e06385",
   "metadata": {},
   "outputs": [],
   "source": [
    "from tmdbv3api import TMDb\n",
    "from tmdbv3api import Movie\n",
    "tmdb = TMDb()"
   ]
  },
  {
   "cell_type": "code",
   "execution_count": 69,
   "id": "0c8596a8",
   "metadata": {},
   "outputs": [],
   "source": [
    "tmdb.api_key = '71a383691862790e040164ad8bbf99a2'"
   ]
  },
  {
   "cell_type": "code",
   "execution_count": 74,
   "id": "e25655a7",
   "metadata": {},
   "outputs": [],
   "source": [
    "movie_srch = Movie()"
   ]
  },
  {
   "cell_type": "code",
   "execution_count": 76,
   "id": "521ee8c2",
   "metadata": {},
   "outputs": [],
   "source": [
    "movie= movie_srch.search('Spider-Man: No Way Home')"
   ]
  },
  {
   "cell_type": "code",
   "execution_count": 77,
   "id": "1a6356ac",
   "metadata": {},
   "outputs": [
    {
     "data": {
      "text/plain": [
       "[{'adult': False, 'backdrop_path': '/1Rr5SrvHxMXHu5RjKpaMba8VTzi.jpg', 'genre_ids': [28, 12, 878], 'id': 634649, 'original_language': 'en', 'original_title': 'Spider-Man: No Way Home', 'overview': 'Peter Parker is unmasked and no longer able to separate his normal life from the high-stakes of being a super-hero. When he asks for help from Doctor Strange the stakes become even more dangerous, forcing him to discover what it truly means to be Spider-Man.', 'popularity': 20686.826, 'poster_path': '/1g0dhYtq4irTY1GPXvft6k4YLjm.jpg', 'release_date': '2021-12-15', 'title': 'Spider-Man: No Way Home', 'video': False, 'vote_average': 8.6, 'vote_count': 1839}]"
      ]
     },
     "execution_count": 77,
     "metadata": {},
     "output_type": "execute_result"
    }
   ],
   "source": [
    "movie"
   ]
  },
  {
   "cell_type": "code",
   "execution_count": 78,
   "id": "67a947e8",
   "metadata": {},
   "outputs": [
    {
     "data": {
      "text/plain": [
       "{'adult': False, 'backdrop_path': '/1Rr5SrvHxMXHu5RjKpaMba8VTzi.jpg', 'genre_ids': [28, 12, 878], 'id': 634649, 'original_language': 'en', 'original_title': 'Spider-Man: No Way Home', 'overview': 'Peter Parker is unmasked and no longer able to separate his normal life from the high-stakes of being a super-hero. When he asks for help from Doctor Strange the stakes become even more dangerous, forcing him to discover what it truly means to be Spider-Man.', 'popularity': 20686.826, 'poster_path': '/1g0dhYtq4irTY1GPXvft6k4YLjm.jpg', 'release_date': '2021-12-15', 'title': 'Spider-Man: No Way Home', 'video': False, 'vote_average': 8.6, 'vote_count': 1839}"
      ]
     },
     "execution_count": 78,
     "metadata": {},
     "output_type": "execute_result"
    }
   ],
   "source": [
    "movie[0]"
   ]
  },
  {
   "cell_type": "code",
   "execution_count": 79,
   "id": "234f5e13",
   "metadata": {},
   "outputs": [
    {
     "data": {
      "text/plain": [
       "634649"
      ]
     },
     "execution_count": 79,
     "metadata": {},
     "output_type": "execute_result"
    }
   ],
   "source": [
    "movie[0]['id']"
   ]
  },
  {
   "cell_type": "code",
   "execution_count": 85,
   "id": "67c70d24",
   "metadata": {},
   "outputs": [],
   "source": [
    "def get_genres(movie_name):\n",
    "    gen = []\n",
    "    movie_srch = Movie()\n",
    "    movie= movie_srch.search(movie_name)\n",
    "    movie[0]\n",
    "    movie_id= movie[0]['id']   \n",
    "    movies = requests.get('https://api.themoviedb.org/3/movie/{}?api_key=71a383691862790e040164ad8bbf99a2'.format(movie_id)).json()\n",
    "    if movies['genres']:\n",
    "\n",
    "        for title in movies['genres']:\n",
    "            gen.append(title['name'])\n",
    "\n",
    "        return \" \".join(gen)\n",
    "    else:\n",
    "        return np.NaN\n"
   ]
  },
  {
   "cell_type": "code",
   "execution_count": 86,
   "id": "fef24ea6",
   "metadata": {},
   "outputs": [
    {
     "data": {
      "text/plain": [
       "'Action Comedy Crime Thriller'"
      ]
     },
     "execution_count": 86,
     "metadata": {},
     "output_type": "execute_result"
    }
   ],
   "source": [
    "get_genres('Red Notice')"
   ]
  },
  {
   "cell_type": "code",
   "execution_count": 89,
   "id": "7879526c",
   "metadata": {},
   "outputs": [],
   "source": [
    "final_df['genres_names2nd'] = final_df['title'].map(lambda x: get_genres(str(x)))"
   ]
  },
  {
   "cell_type": "code",
   "execution_count": 90,
   "id": "792e2475",
   "metadata": {},
   "outputs": [
    {
     "data": {
      "text/html": [
       "<div>\n",
       "<style scoped>\n",
       "    .dataframe tbody tr th:only-of-type {\n",
       "        vertical-align: middle;\n",
       "    }\n",
       "\n",
       "    .dataframe tbody tr th {\n",
       "        vertical-align: top;\n",
       "    }\n",
       "\n",
       "    .dataframe thead th {\n",
       "        text-align: right;\n",
       "    }\n",
       "</style>\n",
       "<table border=\"1\" class=\"dataframe\">\n",
       "  <thead>\n",
       "    <tr style=\"text-align: right;\">\n",
       "      <th></th>\n",
       "      <th>title</th>\n",
       "      <th>genres</th>\n",
       "      <th>id</th>\n",
       "      <th>release_date</th>\n",
       "      <th>popularity</th>\n",
       "      <th>genres_name</th>\n",
       "      <th>genres_names2nd</th>\n",
       "    </tr>\n",
       "  </thead>\n",
       "  <tbody>\n",
       "    <tr>\n",
       "      <th>0</th>\n",
       "      <td>Spider-Man: No Way Home</td>\n",
       "      <td>[28, 12, 878]</td>\n",
       "      <td>634649</td>\n",
       "      <td>2021-12-15</td>\n",
       "      <td>20686.826</td>\n",
       "      <td>Action Adventure Science Fiction</td>\n",
       "      <td>Action Adventure Science Fiction</td>\n",
       "    </tr>\n",
       "    <tr>\n",
       "      <th>1</th>\n",
       "      <td>Venom: Let There Be Carnage</td>\n",
       "      <td>[878, 28, 12]</td>\n",
       "      <td>580489</td>\n",
       "      <td>2021-09-30</td>\n",
       "      <td>7992.617</td>\n",
       "      <td>Science Fiction Action Adventure</td>\n",
       "      <td>Science Fiction Action Adventure</td>\n",
       "    </tr>\n",
       "    <tr>\n",
       "      <th>2</th>\n",
       "      <td>Red Notice</td>\n",
       "      <td>[28, 35, 80, 53]</td>\n",
       "      <td>512195</td>\n",
       "      <td>2021-11-04</td>\n",
       "      <td>3496.837</td>\n",
       "      <td>Action Comedy Crime Thriller</td>\n",
       "      <td>Action Comedy Crime Thriller</td>\n",
       "    </tr>\n",
       "    <tr>\n",
       "      <th>3</th>\n",
       "      <td>Shang-Chi and the Legend of the Ten Rings</td>\n",
       "      <td>[28, 12, 14]</td>\n",
       "      <td>566525</td>\n",
       "      <td>2021-09-01</td>\n",
       "      <td>3100.52</td>\n",
       "      <td>Action Adventure Fantasy</td>\n",
       "      <td>Action Adventure Fantasy</td>\n",
       "    </tr>\n",
       "    <tr>\n",
       "      <th>4</th>\n",
       "      <td>Spider-Man: Homecoming</td>\n",
       "      <td>[28, 12, 878, 18]</td>\n",
       "      <td>315635</td>\n",
       "      <td>2017-07-05</td>\n",
       "      <td>2968.44</td>\n",
       "      <td>Action Adventure Science Fiction Drama</td>\n",
       "      <td>Action Adventure Science Fiction Drama</td>\n",
       "    </tr>\n",
       "  </tbody>\n",
       "</table>\n",
       "</div>"
      ],
      "text/plain": [
       "                                       title             genres      id  \\\n",
       "0                    Spider-Man: No Way Home      [28, 12, 878]  634649   \n",
       "1                Venom: Let There Be Carnage      [878, 28, 12]  580489   \n",
       "2                                 Red Notice   [28, 35, 80, 53]  512195   \n",
       "3  Shang-Chi and the Legend of the Ten Rings       [28, 12, 14]  566525   \n",
       "4                     Spider-Man: Homecoming  [28, 12, 878, 18]  315635   \n",
       "\n",
       "  release_date popularity                             genres_name  \\\n",
       "0   2021-12-15  20686.826        Action Adventure Science Fiction   \n",
       "1   2021-09-30   7992.617        Science Fiction Action Adventure   \n",
       "2   2021-11-04   3496.837            Action Comedy Crime Thriller   \n",
       "3   2021-09-01    3100.52                Action Adventure Fantasy   \n",
       "4   2017-07-05    2968.44  Action Adventure Science Fiction Drama   \n",
       "\n",
       "                          genres_names2nd  \n",
       "0        Action Adventure Science Fiction  \n",
       "1        Science Fiction Action Adventure  \n",
       "2            Action Comedy Crime Thriller  \n",
       "3                Action Adventure Fantasy  \n",
       "4  Action Adventure Science Fiction Drama  "
      ]
     },
     "execution_count": 90,
     "metadata": {},
     "output_type": "execute_result"
    }
   ],
   "source": [
    "final_df.head()"
   ]
  },
  {
   "cell_type": "code",
   "execution_count": null,
   "id": "4bbdb461",
   "metadata": {},
   "outputs": [],
   "source": []
  }
 ],
 "metadata": {
  "kernelspec": {
   "display_name": "Python 3",
   "language": "python",
   "name": "python3"
  },
  "language_info": {
   "codemirror_mode": {
    "name": "ipython",
    "version": 3
   },
   "file_extension": ".py",
   "mimetype": "text/x-python",
   "name": "python",
   "nbconvert_exporter": "python",
   "pygments_lexer": "ipython3",
   "version": "3.8.8"
  }
 },
 "nbformat": 4,
 "nbformat_minor": 5
}
